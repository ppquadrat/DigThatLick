{
 "cells": [
  {
   "cell_type": "markdown",
   "metadata": {},
   "source": [
    "# Run Polina's code for 100 years of jazz\n",
    "\n",
    "## Create an RDF repository for JE"
   ]
  },
  {
   "cell_type": "code",
   "execution_count": null,
   "metadata": {},
   "outputs": [],
   "source": [
    "# Input: DATA/JECompleteIndex_cleaned.csv\n",
    "# Output: TTL/JE_PyRDF.ttl, TTL/JE_PyRDF_tmp.ttl\n",
    "%run JEtoRDF_V6"
   ]
  },
  {
   "cell_type": "markdown",
   "metadata": {},
   "source": [
    "## Add leaders to the JE repository"
   ]
  },
  {
   "cell_type": "code",
   "execution_count": null,
   "metadata": {},
   "outputs": [],
   "source": [
    "# Input: TTL/JE_PyRDF.ttl (output of previous step only)\n",
    "# Output: TTL/JE_leaders.ttl\n",
    "exec(open('match_leaders.py').read(), {'PROPERTY_PREFIX': 'je'})"
   ]
  },
  {
   "cell_type": "markdown",
   "metadata": {},
   "source": [
    "## Add fingerprints for JE"
   ]
  },
  {
   "cell_type": "code",
   "execution_count": null,
   "metadata": {},
   "outputs": [],
   "source": [
    "# Input: DATA/id_dtl1000_idonly.csv, TTL/JE_leaders.ttl\n",
    "# Output: TTL/JE_fprints.ttl\n",
    "%run JE_add_short_fprints"
   ]
  },
  {
   "cell_type": "markdown",
   "metadata": {},
   "source": [
    "## Create an RDF repository from the json files for the (subset of) Illinois dataset\n",
    "This is the slowest part, taking ~90 minutes on a good laptop."
   ]
  },
  {
   "cell_type": "code",
   "execution_count": null,
   "metadata": {},
   "outputs": [],
   "source": [
    "# Input: DATA/DTL1000_1960-2020_json_v0/???0s.csv_110_musinstr.json\n",
    "# Output: TTL/ILL1000.ttl\n",
    "%run Ill1000_2RDF"
   ]
  },
  {
   "cell_type": "markdown",
   "metadata": {},
   "source": [
    "## Add bands to the ILL repository from the SQL (Lord Discography) database \n",
    "Download the SQL database from OSF"
   ]
  },
  {
   "cell_type": "code",
   "execution_count": null,
   "metadata": {},
   "outputs": [],
   "source": [
    "# Input: DATA/2019.10.24_disco.sqlite, DATA/DTL1000_1960-2020_json_v0/???0s.csv_110_musinstr.json, TTL/ILL1000.ttl\n",
    "# Output: TTL/ILL_bands.ttl\n",
    "%run Ill1000_add_bands_from_sql"
   ]
  },
  {
   "cell_type": "markdown",
   "metadata": {},
   "source": [
    "## Add leaders to the ILL repository"
   ]
  },
  {
   "cell_type": "code",
   "execution_count": null,
   "metadata": {},
   "outputs": [],
   "source": [
    "# Input: TTL/ILL_bands.ttl\n",
    "# Output: TTL/ILL_leaders.ttl\n",
    "exec(open('match_leaders.py').read(), {'PROPERTY_PREFIX': 'lord'})"
   ]
  },
  {
   "cell_type": "markdown",
   "metadata": {},
   "source": [
    "## For both JE and ILL repositories (separately) add DTL instrument labels"
   ]
  },
  {
   "cell_type": "code",
   "execution_count": null,
   "metadata": {},
   "outputs": [],
   "source": [
    "# Input: DATA/orig2DTL_instruments.csv, TTL/JE_fprints.ttl\n",
    "# Ouput: TTL/JE_inst.ttl\n",
    "exec(open('map_instruments.py').read(), {'PROPERTY_PREFIX': 'je'})\n",
    "\n",
    "# Input: DATA/orig2DTL_instruments.csv, TTL/ILL_leaders.ttl\n",
    "# Ouput: TTL/ILL_inst.ttl\n",
    "exec(open('map_instruments.py').read(), {'PROPERTY_PREFIX': 'lord'})  # 'je', 'lord', 'orig'"
   ]
  },
  {
   "cell_type": "markdown",
   "metadata": {},
   "source": [
    "## Add solo information for JE"
   ]
  },
  {
   "cell_type": "code",
   "execution_count": null,
   "metadata": {},
   "outputs": [],
   "source": [
    "# Input: DATA/solo_extract_meta.csv, DATA/DTLtoJE_instruments.csv, TTL/JE_inst.ttl\n",
    "# Output: TTL/JE_solos.ttl, PyLOG/JE_no_musicians_found.json, PyLOG/JE_no_matching_instrument_found.json, PyLOG/JE_multiple_musicians_found.json\n",
    "%run JE1000_add_solos"
   ]
  },
  {
   "cell_type": "markdown",
   "metadata": {},
   "source": [
    "## Add solo information for ILL"
   ]
  },
  {
   "cell_type": "code",
   "execution_count": null,
   "metadata": {},
   "outputs": [],
   "source": [
    "# Input: DATA/solo_extract_meta.csv, TTL/ILL_inst.ttl\n",
    "# Output: TTL/ILL_solos.ttl, PyLOG/Ill_no_musicians_found.json, PyLOG/Ill_no_matching_instrument_found.json, PyLOG/Ill_multiple_musicians_found.json\n",
    "%run Ill1000_add_solos"
   ]
  },
  {
   "cell_type": "markdown",
   "metadata": {},
   "source": [
    "## Add styles"
   ]
  },
  {
   "cell_type": "code",
   "execution_count": null,
   "metadata": {},
   "outputs": [],
   "source": [
    "# Input: DATA/styles.csv, TTL/JE_solos.ttl\n",
    "# Output: TTL/JE_styles.ttl\n",
    "exec(open('add_styles.py').read(), {'PROPERTY_PREFIX': 'je'})\n",
    "\n",
    "# Input: DATA/styles.csv, TTL/ILL_solos.ttl\n",
    "# Output: TTL/ILL_styles.ttl\n",
    "exec(open('add_styles.py').read(), {'PROPERTY_PREFIX': 'lord'})"
   ]
  },
  {
   "cell_type": "markdown",
   "metadata": {},
   "source": [
    "## Add links to LOD"
   ]
  },
  {
   "cell_type": "code",
   "execution_count": null,
   "metadata": {},
   "outputs": [],
   "source": [
    "# Input: DATA/LJpeople.nt, TTL/JE_styles.ttl\n",
    "# Output: TTL/JE_LODpeople.ttl\n",
    "exec(open('DTLtoLJpeople.py').read(), {'PROPERTY_PREFIX': 'je'})\n",
    "\n",
    "# Input: DATA/LJpeople.nt, TTL/ILL_styles.ttl\n",
    "# Output: TTL/ILL_LODpeople.ttl\n",
    "exec(open('DTLtoLJpeople.py').read(), {'PROPERTY_PREFIX': 'lord'})"
   ]
  },
  {
   "cell_type": "markdown",
   "metadata": {},
   "source": [
    "## Merge JE and ILL repositories\n",
    "Musicians, Bands, Tunes and Instruments are merged by name/title.\n",
    "Sessions and performances are not merged since they do not overlap between JE and ILL.\n",
    "Merging is not necessary for the interface to work, just combining the two files would suffice."
   ]
  },
  {
   "cell_type": "code",
   "execution_count": null,
   "metadata": {},
   "outputs": [],
   "source": [
    "# Input: TTL/JE_LODpeople.ttl, TTL/ILL_LODpeople.ttl\n",
    "# Output: TTL/JE_ILL_merged.ttl\n",
    "%run merging"
   ]
  },
  {
   "cell_type": "markdown",
   "metadata": {},
   "source": [
    "## Patch metadata to resolve missing solo performers"
   ]
  },
  {
   "cell_type": "code",
   "execution_count": null,
   "metadata": {},
   "outputs": [],
   "source": [
    "# Input: DATA/missing_performer.csv, TTL/JE_ILL_merged.ttl\n",
    "# Output: TTL/JE_ILL_patched.ttl\n",
    "%run patch_metadata"
   ]
  },
  {
   "cell_type": "markdown",
   "metadata": {},
   "source": [
    "## Extract the relevant triples from the merged \"100 years of jazz\" turtle file"
   ]
  },
  {
   "cell_type": "code",
   "execution_count": null,
   "metadata": {},
   "outputs": [],
   "source": [
    "# Input: DATA/id_dtl1000_idonly.csv, TTL/JE_ILL_patched.ttl\n",
    "# Output: TTL/dtl1000.ttl\n",
    "%run dtl1000.py"
   ]
  }
 ],
 "metadata": {
  "kernelspec": {
   "display_name": "Python 3",
   "language": "python",
   "name": "python3"
  },
  "language_info": {
   "codemirror_mode": {
    "name": "ipython",
    "version": 3
   },
   "file_extension": ".py",
   "mimetype": "text/x-python",
   "name": "python",
   "nbconvert_exporter": "python",
   "pygments_lexer": "ipython3",
   "version": "3.8.10"
  }
 },
 "nbformat": 4,
 "nbformat_minor": 4
}
